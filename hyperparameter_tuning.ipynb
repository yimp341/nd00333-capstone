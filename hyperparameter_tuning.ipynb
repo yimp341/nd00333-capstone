{
  "cells": [
    {
      "cell_type": "markdown",
      "source": [
        "# Hyperparameter Tuning using HyperDrive\n",
        "\n",
        "TODO: Import Dependencies. In the cell below, import all the dependencies that you will need to complete the project."
      ],
      "metadata": {}
    },
    {
      "cell_type": "code",
      "source": [],
      "outputs": [],
      "execution_count": null,
      "metadata": {
        "gather": {
          "logged": 1598531914256
        }
      }
    },
    {
      "cell_type": "markdown",
      "source": [
        "## Dataset\n",
        "\n",
        "TODO: Get data. In the cell below, write code to access the data you will be using in this project. Remember that the dataset needs to be external."
      ],
      "metadata": {}
    },
    {
      "cell_type": "code",
      "source": [
        "from azureml.core import Workspace, Experiment\n",
        "from azureml.data.dataset_factory import TabularDatasetFactory\n",
        "from azureml.core import Dataset\n",
        "ws = Workspace.from_config()\n",
        "experiment_name = 'capstoneexperiment'\n",
        "\n",
        "experiment=Experiment(ws, experiment_name)\n",
        "ds = Dataset.get_by_name(ws,'alcohol')\n",
        "ds1=ds.to_pandas_dataframe()"
      ],
      "outputs": [],
      "execution_count": 4,
      "metadata": {
        "gather": {
          "logged": 1614042325074
        },
        "jupyter": {
          "outputs_hidden": false,
          "source_hidden": false
        },
        "nteract": {
          "transient": {
            "deleting": false
          }
        }
      }
    },
    {
      "cell_type": "code",
      "source": [
        "import argparse\r\n",
        "import os\r\n",
        "import numpy as np\r\n",
        "from sklearn.metrics import mean_squared_error\r\n",
        "import joblib\r\n",
        "from sklearn.model_selection import train_test_split\r\n",
        "from sklearn.preprocessing import OneHotEncoder\r\n",
        "import pandas as pd\r\n",
        "from azureml.core.run import Run\r\n",
        "from azureml.data.dataset_factory import TabularDatasetFactory\r\n",
        "from azureml.core import Dataset\r\n",
        "from sklearn.model_selection import train_test_split\r\n",
        "from sklearn.ensemble import RandomForestClassifier\r\n",
        "from sklearn.datasets import make_classification\r\n",
        "\r\n",
        "#\r\n",
        "    # Dict for cleaning data\r\n",
        "#    months = {\"jan\":1, \"feb\":2, \"mar\":3, \"apr\":4, \"may\":5, \"jun\":6, \"jul\":7, \"aug\":8, \"sep\":9, \"oct\":10, \"nov\":11, \"dec\":12}\r\n",
        "#    weekdays = {\"mon\":1, \"tue\":2, \"wed\":3, \"thu\":4, \"fri\":5, \"sat\":6, \"sun\":7}\r\n",
        "\r\n",
        "    # Clean and one hot encode data\r\n",
        " #   x_df = data.to_pandas_dataframe().dropna()\r\n",
        " #   jobs = pd.get_dummies(x_df.job, prefix=\"job\")\r\n",
        " #   x_df.drop(\"job\", inplace=True, axis=1)\r\n",
        " #   x_df = x_df.join(jobs)\r\n",
        " #   x_df[\"marital\"] = x_df.marital.apply(lambda s: 1 if s == \"married\" else 0)\r\n",
        " #   x_df[\"default\"] = x_df.default.apply(lambda s: 1 if s == \"yes\" else 0)\r\n",
        " #   x_df[\"housing\"] = x_df.housing.apply(lambda s: 1 if s == \"yes\" else 0)\r\n",
        " #   x_df[\"loan\"] = x_df.loan.apply(lambda s: 1 if s == \"yes\" else 0)\r\n",
        " #   contact = pd.get_dummies(x_df.contact, prefix=\"contact\")\r\n",
        " #   x_df.drop(\"contact\", inplace=True, axis=1)\r\n",
        " #   x_df = x_df.join(contact)\r\n",
        " #   education = pd.get_dummies(x_df.education, prefix=\"education\")\r\n",
        " #   x_df.drop(\"education\", inplace=True, axis=1)\r\n",
        " #   x_df = x_df.join(education)\r\n",
        " #   x_df[\"month\"] = x_df.month.map(months)\r\n",
        " #   x_df[\"day_of_week\"] = x_df.day_of_week.map(weekdays)\r\n",
        " #   x_df[\"poutcome\"] = x_df.poutcome.apply(lambda s: 1 if s == \"success\" else 0)\r\n",
        "x= pd.DataFrame(ds1)\r\n",
        "y= ds1.drop(\"Walc\", inplace=True, axis=1)\r\n",
        "\r\n",
        "    \r\n",
        " #   return x_df, y_df\r\n",
        "    \r\n",
        "    # Add arguments to script\r\n",
        "#x, y = clean_data(ds1)\r\n",
        "\r\n",
        "# TODO: Split data into train and test sets.\r\n",
        "\r\n",
        "x_train, x_test = train_test_split(x, test_size=0.2)\r\n",
        "y_train, y_test = train_test_split(y, test_size=0.2)\r\n",
        "\r\n",
        "parser = argparse.ArgumentParser()\r\n",
        "\r\n",
        "parser.add_argument('--n_estimators', type=int, default=100, help=\"Inverse of regularization strength. Smaller values cause stronger regularization\")\r\n",
        "#parser.add_argument('--min_samples_split', type=int, default=2, help=\"Maximum number of iterations to converge\")\r\n",
        "\r\n",
        "args = parser.parse_args()\r\n",
        "\r\n",
        "run.log(\"n_estimators:\", np.int(args.n-estimators))\r\n",
        "#run.log(\"min_samlples_split\", np.int(args.min_samples_split))\r\n",
        "\r\n",
        "    #model = LogisticRegression(C=args.C, max_iter=args.max_iter).fit(x_train, y_train)\r\n",
        "#model = RandomForestClassifier(n_estimators = args.n_estimators, min_samples_split = args.min_samples_split)\r\n",
        "model = RandomForestClassifier(n_estimators = args.n_estimators)\r\n",
        "\r\n",
        "accuracy = model.score(x_test, y_test)\r\n",
        "run.log(\"Accuracy\", np.float(accuracy))\r\n",
        "os.makedirs('outputs',exist_ok=True)\r\n",
        "joblib.dump(model, 'outputs/model.joblib')\r\n",
        "\r\n",
        "\r\n",
        "\r\n"
      ],
      "outputs": [
        {
          "output_type": "error",
          "ename": "TypeError",
          "evalue": "Expected sequence or array-like, got <class 'NoneType'>",
          "traceback": [
            "\u001b[0;31m---------------------------------------------------------------------------\u001b[0m",
            "\u001b[0;31mTypeError\u001b[0m                                 Traceback (most recent call last)",
            "\u001b[0;32m<ipython-input-5-110da7e3d4b1>\u001b[0m in \u001b[0;36m<module>\u001b[0;34m\u001b[0m\n\u001b[1;32m     49\u001b[0m \u001b[0;34m\u001b[0m\u001b[0m\n\u001b[1;32m     50\u001b[0m \u001b[0mx_train\u001b[0m\u001b[0;34m,\u001b[0m \u001b[0mx_test\u001b[0m \u001b[0;34m=\u001b[0m \u001b[0mtrain_test_split\u001b[0m\u001b[0;34m(\u001b[0m\u001b[0mx\u001b[0m\u001b[0;34m,\u001b[0m \u001b[0mtest_size\u001b[0m\u001b[0;34m=\u001b[0m\u001b[0;36m0.2\u001b[0m\u001b[0;34m)\u001b[0m\u001b[0;34m\u001b[0m\u001b[0;34m\u001b[0m\u001b[0m\n\u001b[0;32m---> 51\u001b[0;31m \u001b[0my_train\u001b[0m\u001b[0;34m,\u001b[0m \u001b[0my_test\u001b[0m \u001b[0;34m=\u001b[0m \u001b[0mtrain_test_split\u001b[0m\u001b[0;34m(\u001b[0m\u001b[0my\u001b[0m\u001b[0;34m,\u001b[0m \u001b[0mtest_size\u001b[0m\u001b[0;34m=\u001b[0m\u001b[0;36m0.2\u001b[0m\u001b[0;34m)\u001b[0m\u001b[0;34m\u001b[0m\u001b[0;34m\u001b[0m\u001b[0m\n\u001b[0m\u001b[1;32m     52\u001b[0m \u001b[0;34m\u001b[0m\u001b[0m\n\u001b[1;32m     53\u001b[0m \u001b[0mparser\u001b[0m \u001b[0;34m=\u001b[0m \u001b[0margparse\u001b[0m\u001b[0;34m.\u001b[0m\u001b[0mArgumentParser\u001b[0m\u001b[0;34m(\u001b[0m\u001b[0;34m)\u001b[0m\u001b[0;34m\u001b[0m\u001b[0;34m\u001b[0m\u001b[0m\n",
            "\u001b[0;32m/anaconda/envs/azureml_py36/lib/python3.6/site-packages/sklearn/model_selection/_split.py\u001b[0m in \u001b[0;36mtrain_test_split\u001b[0;34m(*arrays, **options)\u001b[0m\n\u001b[1;32m   2118\u001b[0m     \u001b[0marrays\u001b[0m \u001b[0;34m=\u001b[0m \u001b[0mindexable\u001b[0m\u001b[0;34m(\u001b[0m\u001b[0;34m*\u001b[0m\u001b[0marrays\u001b[0m\u001b[0;34m)\u001b[0m\u001b[0;34m\u001b[0m\u001b[0;34m\u001b[0m\u001b[0m\n\u001b[1;32m   2119\u001b[0m \u001b[0;34m\u001b[0m\u001b[0m\n\u001b[0;32m-> 2120\u001b[0;31m     \u001b[0mn_samples\u001b[0m \u001b[0;34m=\u001b[0m \u001b[0m_num_samples\u001b[0m\u001b[0;34m(\u001b[0m\u001b[0marrays\u001b[0m\u001b[0;34m[\u001b[0m\u001b[0;36m0\u001b[0m\u001b[0;34m]\u001b[0m\u001b[0;34m)\u001b[0m\u001b[0;34m\u001b[0m\u001b[0;34m\u001b[0m\u001b[0m\n\u001b[0m\u001b[1;32m   2121\u001b[0m     n_train, n_test = _validate_shuffle_split(n_samples, test_size, train_size,\n\u001b[1;32m   2122\u001b[0m                                               default_test_size=0.25)\n",
            "\u001b[0;32m/anaconda/envs/azureml_py36/lib/python3.6/site-packages/sklearn/utils/validation.py\u001b[0m in \u001b[0;36m_num_samples\u001b[0;34m(x)\u001b[0m\n\u001b[1;32m    145\u001b[0m             \u001b[0mx\u001b[0m \u001b[0;34m=\u001b[0m \u001b[0mnp\u001b[0m\u001b[0;34m.\u001b[0m\u001b[0masarray\u001b[0m\u001b[0;34m(\u001b[0m\u001b[0mx\u001b[0m\u001b[0;34m)\u001b[0m\u001b[0;34m\u001b[0m\u001b[0;34m\u001b[0m\u001b[0m\n\u001b[1;32m    146\u001b[0m         \u001b[0;32melse\u001b[0m\u001b[0;34m:\u001b[0m\u001b[0;34m\u001b[0m\u001b[0;34m\u001b[0m\u001b[0m\n\u001b[0;32m--> 147\u001b[0;31m             \u001b[0;32mraise\u001b[0m \u001b[0mTypeError\u001b[0m\u001b[0;34m(\u001b[0m\u001b[0mmessage\u001b[0m\u001b[0;34m)\u001b[0m\u001b[0;34m\u001b[0m\u001b[0;34m\u001b[0m\u001b[0m\n\u001b[0m\u001b[1;32m    148\u001b[0m \u001b[0;34m\u001b[0m\u001b[0m\n\u001b[1;32m    149\u001b[0m     \u001b[0;32mif\u001b[0m \u001b[0mhasattr\u001b[0m\u001b[0;34m(\u001b[0m\u001b[0mx\u001b[0m\u001b[0;34m,\u001b[0m \u001b[0;34m'shape'\u001b[0m\u001b[0;34m)\u001b[0m \u001b[0;32mand\u001b[0m \u001b[0mx\u001b[0m\u001b[0;34m.\u001b[0m\u001b[0mshape\u001b[0m \u001b[0;32mis\u001b[0m \u001b[0;32mnot\u001b[0m \u001b[0;32mNone\u001b[0m\u001b[0;34m:\u001b[0m\u001b[0;34m\u001b[0m\u001b[0;34m\u001b[0m\u001b[0m\n",
            "\u001b[0;31mTypeError\u001b[0m: Expected sequence or array-like, got <class 'NoneType'>"
          ]
        }
      ],
      "execution_count": 5,
      "metadata": {
        "collapsed": true,
        "jupyter": {
          "source_hidden": false,
          "outputs_hidden": false
        },
        "nteract": {
          "transient": {
            "deleting": false
          }
        }
      }
    },
    {
      "cell_type": "markdown",
      "source": [
        "## Hyperdrive Configuration\n",
        "\n",
        "TODO: Explain the model you are using and the reason for chosing the different hyperparameters, termination policy and config settings."
      ],
      "metadata": {
        "collapsed": true,
        "gather": {
          "logged": 1598531923519
        },
        "jupyter": {
          "outputs_hidden": false,
          "source_hidden": false
        },
        "nteract": {
          "transient": {
            "deleting": false
          }
        }
      }
    },
    {
      "cell_type": "code",
      "source": [
        "from azureml.train.hyperdrive.policy import BanditPolicy\n",
        "from azureml.train.sklearn import SKLearn\n",
        "from azureml.train.hyperdrive.run import PrimaryMetricGoal\n",
        "from azureml.train.hyperdrive.sampling import RandomParameterSampling\n",
        "from azureml.widgets import RunDetails\n",
        "from azureml.train.hyperdrive.runconfig import HyperDriveConfig\n",
        "from azureml.train.hyperdrive.parameter_expressions import choice,uniform\n",
        "import os\n",
        "# TODO: Create an early termination policy. This is not required if you are using Bayesian sampling.\n",
        "early_termination_policy = BanditPolicy(evaluation_interval=2, slack_factor=0.1)\n",
        "\n",
        "#TODO: Create the different params that you will be using during training\n",
        "ps = RandomParameterSampling(\n",
        "    {\n",
        "        '--n-estimators': choice(50,100,150)\n",
        "        '--min_samples_split': choice(2,4,6)\n",
        "    }\n",
        ")\n",
        "        \n",
        "\n",
        "\n",
        "#TODO: Create your estimator and hyperdrive config\n",
        "estimator = SKLearn(\n",
        "    source_directory='./',\n",
        "    entry_script='train.py',\n",
        "    #-ojo a este-compute_target=cpu_cluster_name,\n",
        "    #use_docker=False,\n",
        "    #script_params = {'--reg_rate': 0.07},\n",
        "    #conda_packages=['scikit-learn']\n",
        "    )\n",
        "\n",
        "hyperdrive_run_config = HyperDriveConfig(estimator=est,\n",
        "                                hyperparameter_sampling=ps,\n",
        "                                policy=early_termination_policy,\n",
        "                                primary_metric_name='Accuracy',\n",
        "                                primary_metric_goal=PrimaryMetricGoal.MAXIMIZE,\n",
        "                                max_total_runs=6,\n",
        "                                max_concurrent_runs=4)\n",
        "#----------------------------------------------------------------------\n",
        "#from azureml.widgets import RunDetails\n",
        "#from azureml.train.sklearn import SKLearn\n",
        "#from azureml.train.hyperdrive.run import PrimaryMetricGoal\n",
        "#from azureml.train.hyperdrive.policy import BanditPolicy\n",
        "#from azureml.train.hyperdrive.sampling import RandomParameterSampling\n",
        "#from azureml.train.hyperdrive.runconfig import HyperDriveConfig\n",
        "#from azureml.train.hyperdrive.parameter_expressions import choice,uniform\n",
        "#import os\n",
        "\n",
        "# Specify parameter sampler\n",
        "#ps = RandomParameterSampling(\n",
        "#    {\n",
        "#        '--C': choice(0.001,0.01,0.1,1,10,100),\n",
        "#        '--max_iter': choice(8,100,120)\n",
        "#    }\n",
        "#)\n",
        "\n",
        "# Specify a Policy\n",
        "#policy = BanditPolicy(evaluation_interval=2, slack_factor=0.1)\n",
        "\n",
        "#if \"training\" not in os.listdir():\n",
        "#    os.mkdir(\"./training\")# Create a SKLearn estimator for use with train.py\n",
        "#est = SKLearn(\n",
        "#    source_directory='./',\n",
        "#    entry_script='train.py',\n",
        "#    compute_target=cpu_cluster_name,\n",
        "    #use_docker=False,\n",
        "    #script_params = {'--reg_rate': 0.07},\n",
        "    #conda_packages=['scikit-learn']\n",
        "#    )\n",
        "\n",
        "# Create a HyperDriveConfig using the estimator, hyperparameter sampler, and policy.\n",
        "#hyperdrive_config = HyperDriveConfig(estimator=est,\n",
        "#                                hyperparameter_sampling=ps,\n",
        "#                                policy=policy,\n",
        "#                                primary_metric_name='Accuracy',\n",
        "#                                primary_metric_goal=PrimaryMetricGoal.MAXIMIZE,\n",
        "#                                max_total_runs=6,\n",
        "#                               max_concurrent_runs=4)"
      ],
      "outputs": [],
      "execution_count": null,
      "metadata": {
        "gather": {
          "logged": 1598544893076
        },
        "jupyter": {
          "outputs_hidden": false,
          "source_hidden": false
        },
        "nteract": {
          "transient": {
            "deleting": false
          }
        }
      }
    },
    {
      "cell_type": "code",
      "source": [
        "#TODO: Submit your experiment"
      ],
      "outputs": [],
      "execution_count": null,
      "metadata": {
        "gather": {
          "logged": 1598544897941
        },
        "jupyter": {
          "outputs_hidden": false,
          "source_hidden": false
        },
        "nteract": {
          "transient": {
            "deleting": false
          }
        }
      }
    },
    {
      "cell_type": "markdown",
      "source": [
        "## Run Details\n",
        "\n",
        "OPTIONAL: Write about the different models trained and their performance. Why do you think some models did better than others?\n",
        "\n",
        "TODO: In the cell below, use the `RunDetails` widget to show the different experiments."
      ],
      "metadata": {
        "collapsed": true,
        "gather": {
          "logged": 1598544898497
        },
        "jupyter": {
          "outputs_hidden": false,
          "source_hidden": false
        },
        "nteract": {
          "transient": {
            "deleting": false
          }
        }
      }
    },
    {
      "cell_type": "code",
      "source": [],
      "outputs": [],
      "execution_count": null,
      "metadata": {
        "gather": {
          "logged": 1598546648408
        },
        "jupyter": {
          "outputs_hidden": false,
          "source_hidden": false
        },
        "nteract": {
          "transient": {
            "deleting": false
          }
        }
      }
    },
    {
      "cell_type": "markdown",
      "source": [
        "## Best Model\n",
        "\n",
        "TODO: In the cell below, get the best model from the hyperdrive experiments and display all the properties of the model."
      ],
      "metadata": {}
    },
    {
      "cell_type": "code",
      "source": [],
      "outputs": [],
      "execution_count": null,
      "metadata": {
        "gather": {
          "logged": 1598546650307
        },
        "jupyter": {
          "outputs_hidden": false,
          "source_hidden": false
        },
        "nteract": {
          "transient": {
            "deleting": false
          }
        }
      }
    },
    {
      "cell_type": "code",
      "source": [
        "#TODO: Save the best model"
      ],
      "outputs": [],
      "execution_count": null,
      "metadata": {
        "gather": {
          "logged": 1598546657829
        },
        "jupyter": {
          "outputs_hidden": false,
          "source_hidden": false
        },
        "nteract": {
          "transient": {
            "deleting": false
          }
        }
      }
    },
    {
      "cell_type": "markdown",
      "source": [
        "## Model Deployment\n",
        "\n",
        "Remember you have to deploy only one of the two models you trained.. Perform the steps in the rest of this notebook only if you wish to deploy this model.\n",
        "\n",
        "TODO: In the cell below, register the model, create an inference config and deploy the model as a web service."
      ],
      "metadata": {
        "collapsed": true,
        "jupyter": {
          "outputs_hidden": false,
          "source_hidden": false
        },
        "nteract": {
          "transient": {
            "deleting": false
          }
        }
      }
    },
    {
      "cell_type": "code",
      "source": [],
      "outputs": [],
      "execution_count": null,
      "metadata": {}
    },
    {
      "cell_type": "markdown",
      "source": [
        "TODO: In the cell below, send a request to the web service you deployed to test it."
      ],
      "metadata": {}
    },
    {
      "cell_type": "code",
      "source": [],
      "outputs": [],
      "execution_count": null,
      "metadata": {}
    },
    {
      "cell_type": "markdown",
      "source": [
        "TODO: In the cell below, print the logs of the web service and delete the service"
      ],
      "metadata": {}
    },
    {
      "cell_type": "code",
      "source": [],
      "outputs": [],
      "execution_count": null,
      "metadata": {}
    }
  ],
  "metadata": {
    "kernel_info": {
      "name": "python3"
    },
    "kernelspec": {
      "name": "python3",
      "language": "python",
      "display_name": "Python 3"
    },
    "language_info": {
      "name": "python",
      "version": "3.6.9",
      "mimetype": "text/x-python",
      "codemirror_mode": {
        "name": "ipython",
        "version": 3
      },
      "pygments_lexer": "ipython3",
      "nbconvert_exporter": "python",
      "file_extension": ".py"
    },
    "nteract": {
      "version": "nteract-front-end@1.0.0"
    }
  },
  "nbformat": 4,
  "nbformat_minor": 2
}